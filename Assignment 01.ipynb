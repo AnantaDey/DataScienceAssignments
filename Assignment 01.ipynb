{
 "cells": [
  {
   "cell_type": "code",
   "execution_count": 1,
   "id": "ec92fca9",
   "metadata": {},
   "outputs": [],
   "source": [
    "#ASSIGNMENT 01"
   ]
  },
  {
   "cell_type": "code",
   "execution_count": 2,
   "id": "9bb9dfc3",
   "metadata": {},
   "outputs": [],
   "source": [
    "#Qn01.Explain with an example each when to use a for loop and a while loop.\n",
    "# Ans. There is no any kind of difference between for loop and while loop. But while loop are best suited\n",
    "#     when we do not know ahead of time the number of iterations that you need to do. When we know this beforehand\n",
    "#     we can use for loop. Basically for loop has initialization, condition of the last element and incrementation.   \n"
   ]
  },
  {
   "cell_type": "code",
   "execution_count": 3,
   "id": "f2d230c2",
   "metadata": {},
   "outputs": [
    {
     "name": "stdout",
     "output_type": "stream",
     "text": [
      "1\n",
      "2\n",
      "3\n",
      "4\n",
      "5\n",
      "6\n",
      "7\n",
      "8\n",
      "9\n"
     ]
    }
   ],
   "source": [
    "#     example\n",
    "#     for loop\n",
    "for i in range(1,10,1):\n",
    "    print(i)\n"
   ]
  },
  {
   "cell_type": "code",
   "execution_count": 4,
   "id": "bb3bdbb7",
   "metadata": {},
   "outputs": [
    {
     "name": "stdout",
     "output_type": "stream",
     "text": [
      "1\n",
      "2\n",
      "3\n",
      "4\n",
      "5\n",
      "6\n",
      "7\n",
      "8\n",
      "9\n"
     ]
    }
   ],
   "source": [
    "#     example \n",
    "#     while loop\n",
    "\n",
    "count=1\n",
    "while count<10:\n",
    "    print(count)\n",
    "    count=count+1"
   ]
  },
  {
   "cell_type": "code",
   "execution_count": 5,
   "id": "d0c08a3f",
   "metadata": {},
   "outputs": [],
   "source": [
    "#Qn 02.Write a python program to print the sum and product of the first 10 natural numbers using for\n",
    "#        and while loop."
   ]
  },
  {
   "cell_type": "code",
   "execution_count": 6,
   "id": "f3b92b54",
   "metadata": {},
   "outputs": [
    {
     "name": "stdout",
     "output_type": "stream",
     "text": [
      "55\n",
      "3628800\n"
     ]
    }
   ],
   "source": [
    "#  for loop\n",
    "sum=0\n",
    "product=1\n",
    "for i in range(1,11):\n",
    "    sum+=i\n",
    "    product*=i\n",
    "print(sum)\n",
    "print(product)"
   ]
  },
  {
   "cell_type": "code",
   "execution_count": 7,
   "id": "54aa941c",
   "metadata": {},
   "outputs": [
    {
     "name": "stdout",
     "output_type": "stream",
     "text": [
      "55\n",
      "3628800\n"
     ]
    }
   ],
   "source": [
    "# while loop\n",
    "s=0\n",
    "p=1\n",
    "i=1\n",
    "while i<=10:\n",
    "        s+=i\n",
    "        p*=i\n",
    "        i+=1\n",
    "print(s)\n",
    "print(p)"
   ]
  },
  {
   "cell_type": "code",
   "execution_count": null,
   "id": "a6106dd5",
   "metadata": {},
   "outputs": [],
   "source": [
    "#Qn 03.Create a python program to compute the electricity bill for a household.\n",
    "\n",
    "\n",
    "# The per-unit charges in rupees are as follows: For the first 100 units, the user will be charged Rs. 4.5 per\n",
    "# unit, for the next 100 units, the user will be charged Rs. 6 per unit, and for the next 100 units, the user will\n",
    "# be charged Rs. 10 per unit, After 300 units and above the user will be charged Rs. 20 per unit.\n",
    "\n",
    "\n",
    "# You are required to take the units of electricity consumed in a month from the user as input.\n",
    "\n",
    "\n",
    "# Your program must pass this test case: when the unit of electricity consumed by the user in a month is\n",
    "# 310, the total electricity bill should be 2250."
   ]
  },
  {
   "cell_type": "code",
   "execution_count": 19,
   "id": "281ac698",
   "metadata": {},
   "outputs": [
    {
     "name": "stdout",
     "output_type": "stream",
     "text": [
      "Enter the units consumed by the consumer 310\n",
      "2250.0\n"
     ]
    }
   ],
   "source": [
    "bill=0\n",
    "unit =int(input(\"Enter the units consumed by the consumer \"))\n",
    "i=0\n",
    "if unit<100:\n",
    "    bill=unit*4.5\n",
    "for i in range(100,unit,100):\n",
    "    if(i==100):\n",
    "        bill=100*4.5\n",
    "    elif(i==200):\n",
    "        bill+=100*6\n",
    "    elif(i==300):\n",
    "        bill+=100*10\n",
    "if i<unit:\n",
    "    bill+=(unit-i)*20\n",
    "print(bill)"
   ]
  },
  {
   "cell_type": "code",
   "execution_count": 12,
   "id": "a8d4a6f2",
   "metadata": {},
   "outputs": [],
   "source": [
    "# Qn 04. Create a list of numbers from 1 to 100. Use for loop and while loop to calculate the cube of each\n",
    "#        number and if the cube of that number is divisible by 4 or 5 then append that number in a list and print\n",
    "#        that list."
   ]
  },
  {
   "cell_type": "code",
   "execution_count": 23,
   "id": "c8f484fc",
   "metadata": {},
   "outputs": [
    {
     "name": "stdout",
     "output_type": "stream",
     "text": [
      "[1, 2, 8, 3, 4, 64, 5, 125, 6, 216, 7, 8, 512, 9, 10, 1000, 11, 12, 1728, 13, 14, 2744, 15, 3375, 16, 4096, 17, 18, 5832, 19, 20, 8000, 21, 22, 10648, 23, 24, 13824, 25, 15625, 26, 17576, 27, 28, 21952, 29, 30, 27000, 31, 32, 32768, 33, 34, 39304, 35, 42875, 36, 46656, 37, 38, 54872, 39, 40, 64000, 41, 42, 74088, 43, 44, 85184, 45, 91125, 46, 97336, 47, 48, 110592, 49, 50, 125000, 51, 52, 140608, 53, 54, 157464, 55, 166375, 56, 175616, 57, 58, 195112, 59, 60, 216000, 61, 62, 238328, 63, 64, 262144, 65, 274625, 66, 287496, 67, 68, 314432, 69, 70, 343000, 71, 72, 373248, 73, 74, 405224, 75, 421875, 76, 438976, 77, 78, 474552, 79, 80, 512000, 81, 82, 551368, 83, 84, 592704, 85, 614125, 86, 636056, 87, 88, 681472, 89, 90, 729000, 91, 92, 778688, 93, 94, 830584, 95, 857375, 96, 884736, 97, 98, 941192, 99, 100, 1000000]\n"
     ]
    }
   ],
   "source": [
    "#Ans:----\n",
    "l1=[]\n",
    "for i in range(1,101):\n",
    "    l1.append(i)\n",
    "    if (i*i*i)%4==0 or (i*i*i)%5==0 :\n",
    "        l1.append(i*i*i)\n",
    "print(l1)"
   ]
  },
  {
   "cell_type": "code",
   "execution_count": null,
   "id": "42fd1d56",
   "metadata": {},
   "outputs": [],
   "source": [
    "# Qn 05.  Write a program to filter count vowels in the below-given string.\n",
    "#         string = \"I want to become a data scientist\""
   ]
  },
  {
   "cell_type": "code",
   "execution_count": 26,
   "id": "cf2c2cda",
   "metadata": {},
   "outputs": [
    {
     "data": {
      "text/plain": [
       "12"
      ]
     },
     "execution_count": 26,
     "metadata": {},
     "output_type": "execute_result"
    }
   ],
   "source": [
    "#Ans:--\n",
    "string = \"I want to become a data scientist\"\n",
    "count=0\n",
    "for i in string:\n",
    "    if i=='a' or i=='A' or i=='e' or i=='E'or i=='i' or i=='I'or i=='o' or i=='O' or i=='u' or i=='U':\n",
    "        count+=1\n",
    "count"
   ]
  },
  {
   "cell_type": "code",
   "execution_count": null,
   "id": "c922a9d6",
   "metadata": {},
   "outputs": [],
   "source": []
  }
 ],
 "metadata": {
  "kernelspec": {
   "display_name": "Python 3 (ipykernel)",
   "language": "python",
   "name": "python3"
  },
  "language_info": {
   "codemirror_mode": {
    "name": "ipython",
    "version": 3
   },
   "file_extension": ".py",
   "mimetype": "text/x-python",
   "name": "python",
   "nbconvert_exporter": "python",
   "pygments_lexer": "ipython3",
   "version": "3.9.13"
  }
 },
 "nbformat": 4,
 "nbformat_minor": 5
}
