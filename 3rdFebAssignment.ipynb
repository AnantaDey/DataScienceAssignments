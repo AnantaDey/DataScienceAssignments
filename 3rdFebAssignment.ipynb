{
 "cells": [
  {
   "cell_type": "markdown",
   "id": "1e7767b8",
   "metadata": {},
   "source": [
    "Q1. Which keyword is used to create a function? Create a function to return a list of odd numbers in the\n",
    "range of 1 to 25.\n",
    "\n",
    "Q2. Why *args and **kwargs is used in some functions? Create a function each for *args and **kwargs\n",
    "to demonstrate their use.\n",
    "\n",
    "Q3. What is an iterator in python? Name the method used to initialise the iterator object and the method\n",
    "used for iteration. Use these methods to print the first five elements of the given list [2, 4, 6, 8, 10, 12, 14,\n",
    "16, 18, 20].\n",
    "\n",
    "Q4. What is a generator function in python? Why yield keyword is used? Give an example of a generator\n",
    "function.\n",
    "\n",
    "Q5. Create a generator function for prime numbers less than 1000. Use the next() method to print the\n",
    "first 20 prime numbers.\n",
    "\n",
    "Q6. Write a python program to print the first 10 Fibonacci numbers using a while loop.\n",
    "\n",
    "Q7. Write a List Comprehension to iterate through the given string: ‘pwskills’.\n",
    "Expected output: ['p', 'w', 's', 'k', 'i', 'l', 'l', 's']\n",
    "\n",
    "Q8. Write a python program to check whether a given number is Palindrome or not using a while loop.\n",
    "\n",
    "Q9. Write a code to print odd numbers from 1 to 100 using list comprehension.\n",
    "Note: Use a list comprehension to create a list from 1 to 100 and use another List comprehension to filter\n",
    "out odd numbers."
   ]
  },
  {
   "cell_type": "code",
   "execution_count": 2,
   "id": "61ac839d",
   "metadata": {},
   "outputs": [],
   "source": [
    "\"Ans 01. 'def' keyword is used to create a function.\"\n",
    "#function to return odd numbers in the range 1 to 25\n",
    "def oddNum():\n",
    "    l=[]\n",
    "    for i in range(26):\n",
    "        if(i%2!=0):\n",
    "            l.append(i)\n",
    "    return l\n"
   ]
  },
  {
   "cell_type": "code",
   "execution_count": 3,
   "id": "a70b9f80",
   "metadata": {},
   "outputs": [
    {
     "data": {
      "text/plain": [
       "[1, 3, 5, 7, 9, 11, 13, 15, 17, 19, 21, 23, 25]"
      ]
     },
     "execution_count": 3,
     "metadata": {},
     "output_type": "execute_result"
    }
   ],
   "source": [
    "oddNum()"
   ]
  },
  {
   "cell_type": "code",
   "execution_count": 5,
   "id": "e33eafd8",
   "metadata": {},
   "outputs": [
    {
     "name": "stdout",
     "output_type": "stream",
     "text": [
      "(2, 3) <class 'tuple'>\n",
      "{'banana': 5, 'mango': 7, 'apple': 8} <class 'dict'>\n"
     ]
    }
   ],
   "source": [
    "#Ans02.We use *args and **kwargs as arguments of a function when we are unsure about the number of arguments \n",
    "#      to pass in the functions.\n",
    "\n",
    "\n",
    "\n",
    "def add(*args):\n",
    "    print(args, type(args))\n",
    "\n",
    "add(2, 3)\n",
    "\n",
    "\n",
    "\n",
    "def total_fruits(**kwargs):\n",
    "    print(kwargs, type(kwargs))\n",
    "\n",
    "\n",
    "total_fruits(banana=5, mango=7, apple=8)\n",
    " "
   ]
  },
  {
   "cell_type": "code",
   "execution_count": 13,
   "id": "058e93c9",
   "metadata": {},
   "outputs": [
    {
     "name": "stdout",
     "output_type": "stream",
     "text": [
      "2\n",
      "4\n",
      "6\n",
      "8\n",
      "10\n"
     ]
    }
   ],
   "source": [
    "#Ans 03.\n",
    "\"\"\"Iterator is an object which has  a countable number of values and can be traversed throgh all the values\"\"\"\n",
    "\n",
    "\"\"\"Iter() method is used to initialize the iterator object and \n",
    "    The next() method returns the next value in the iterable object.\"\"\"\n",
    "\n",
    "l=iter([2, 4, 6, 8, 10, 12, 14, 16, 18, 20])\n",
    "for i in range(5):\n",
    "    print(next(l))\n",
    "\n"
   ]
  },
  {
   "cell_type": "code",
   "execution_count": 18,
   "id": "7704275a",
   "metadata": {},
   "outputs": [
    {
     "name": "stdout",
     "output_type": "stream",
     "text": [
      "Enter an positive integer 10\n",
      "0\n",
      "1\n",
      "1\n",
      "2\n",
      "3\n",
      "5\n",
      "8\n",
      "13\n",
      "21\n",
      "34\n"
     ]
    }
   ],
   "source": [
    "#Ans 04.\n",
    "\n",
    "\"\"\"A generator function allows us to declare a function that behaves like an iterator,\n",
    "providing a faster and easier way to create iterators. \"\"\"\n",
    "\n",
    "\"\"\"The yield keyword in Python controls the flow of a generator function.\n",
    "When we call a function that has a yield statement, as soon as a yield is encountered,\n",
    "the execution of the function halts and returns a generator iterator object instead of simply returning a value.\"\"\"\n",
    "\n",
    "\"\"\"Example of generator function\"\"\"\n",
    "def test_fib(n):\n",
    "    a,b=0,1\n",
    "    for i in range(n):\n",
    "        yield a\n",
    "        a,b=b,a+b\n",
    "        \n",
    "x=int(input(\"Enter an positive integer \"))\n",
    "fib=test_fib(x)\n",
    "for i in range(x):\n",
    "    print(next(fib))"
   ]
  },
  {
   "cell_type": "code",
   "execution_count": 62,
   "id": "40128ac4",
   "metadata": {},
   "outputs": [
    {
     "name": "stdout",
     "output_type": "stream",
     "text": [
      "2\n",
      "3\n",
      "5\n",
      "7\n",
      "9\n",
      "11\n",
      "13\n",
      "15\n",
      "17\n",
      "19\n"
     ]
    },
    {
     "ename": "StopIteration",
     "evalue": "",
     "output_type": "error",
     "traceback": [
      "\u001b[1;31m---------------------------------------------------------------------------\u001b[0m",
      "\u001b[1;31mStopIteration\u001b[0m                             Traceback (most recent call last)",
      "\u001b[1;32m~\\AppData\\Local\\Temp\\ipykernel_1060\\3041557614.py\u001b[0m in \u001b[0;36m<module>\u001b[1;34m\u001b[0m\n\u001b[0;32m     17\u001b[0m \u001b[0mprime_cc\u001b[0m\u001b[1;33m=\u001b[0m\u001b[0mprime_Count\u001b[0m\u001b[1;33m(\u001b[0m\u001b[1;36m20\u001b[0m\u001b[1;33m)\u001b[0m\u001b[1;33m\u001b[0m\u001b[1;33m\u001b[0m\u001b[0m\n\u001b[0;32m     18\u001b[0m \u001b[1;32mwhile\u001b[0m \u001b[1;32mTrue\u001b[0m\u001b[1;33m:\u001b[0m\u001b[1;33m\u001b[0m\u001b[1;33m\u001b[0m\u001b[0m\n\u001b[1;32m---> 19\u001b[1;33m     \u001b[0mprint\u001b[0m\u001b[1;33m(\u001b[0m\u001b[0mnext\u001b[0m\u001b[1;33m(\u001b[0m\u001b[0mprime_cc\u001b[0m\u001b[1;33m)\u001b[0m\u001b[1;33m)\u001b[0m\u001b[1;33m\u001b[0m\u001b[1;33m\u001b[0m\u001b[0m\n\u001b[0m",
      "\u001b[1;31mStopIteration\u001b[0m: "
     ]
    }
   ],
   "source": [
    "#Ans 05.\n",
    "\"\"\"Generator Function for prime number less than 1000\"\"\"\n",
    "\n",
    "def prime_Count(n):\n",
    "    l={2}\n",
    "   \n",
    "    for x in range(1,21):\n",
    "        for y in range(2,x):\n",
    "            if x%y==0:\n",
    "                break\n",
    "            else:\n",
    "                l.add(x)\n",
    "#     l1=set(l)\n",
    "#     print(l1)\n",
    "    for i in l:\n",
    "        yield i\n",
    "prime_cc=prime_Count(20)\n",
    "while True:\n",
    "    print(next(prime_cc))"
   ]
  },
  {
   "cell_type": "code",
   "execution_count": 70,
   "id": "05b9aec0",
   "metadata": {},
   "outputs": [
    {
     "name": "stdout",
     "output_type": "stream",
     "text": [
      "0 1 1 2 3 5 8 13 21 34 "
     ]
    }
   ],
   "source": [
    "#Ans 06.\n",
    "def test_fib(n):\n",
    "    a=0\n",
    "    b=1\n",
    "    sum = 0\n",
    "    count = 1\n",
    "    #print(\"Fibonacci series is: \", end = \" \")\n",
    "    while(count <= n):\n",
    "        count+= 1\n",
    "        print(a, end=\" \")\n",
    "        sum = a + b\n",
    "        a = b\n",
    "        b = sum\n",
    "\n",
    "test_fib(10)"
   ]
  },
  {
   "cell_type": "code",
   "execution_count": 73,
   "id": "2ef469da",
   "metadata": {},
   "outputs": [
    {
     "data": {
      "text/plain": [
       "['p', 'w', 's', 'k', 'i', 'l', 'l', 's']"
      ]
     },
     "execution_count": 73,
     "metadata": {},
     "output_type": "execute_result"
    }
   ],
   "source": [
    "#Ans 07.\n",
    "list=[i for i in 'pwskills']\n",
    "list"
   ]
  },
  {
   "cell_type": "code",
   "execution_count": 75,
   "id": "2bcdf0df",
   "metadata": {},
   "outputs": [
    {
     "name": "stdout",
     "output_type": "stream",
     "text": [
      "Enter a number:10\n",
      "Not a palindrome!\n"
     ]
    }
   ],
   "source": [
    "#Ans 08.\n",
    "num=int(input(\"Enter a number:\"))\n",
    "temp=num\n",
    "rev=0\n",
    "while(num>0):\n",
    "    dig=num%10\n",
    "    rev=rev*10+dig\n",
    "    num=num//10\n",
    "if(temp==rev):\n",
    "    print(\"The number is palindrome!\")\n",
    "else:\n",
    "    print(\"Not a palindrome!\")"
   ]
  },
  {
   "cell_type": "code",
   "execution_count": 83,
   "id": "e7fdc2d5",
   "metadata": {},
   "outputs": [
    {
     "data": {
      "text/plain": [
       "[1,\n",
       " 3,\n",
       " 5,\n",
       " 7,\n",
       " 9,\n",
       " 11,\n",
       " 13,\n",
       " 15,\n",
       " 17,\n",
       " 19,\n",
       " 21,\n",
       " 23,\n",
       " 25,\n",
       " 27,\n",
       " 29,\n",
       " 31,\n",
       " 33,\n",
       " 35,\n",
       " 37,\n",
       " 39,\n",
       " 41,\n",
       " 43,\n",
       " 45,\n",
       " 47,\n",
       " 49,\n",
       " 51,\n",
       " 53,\n",
       " 55,\n",
       " 57,\n",
       " 59,\n",
       " 61,\n",
       " 63,\n",
       " 65,\n",
       " 67,\n",
       " 69,\n",
       " 71,\n",
       " 73,\n",
       " 75,\n",
       " 77,\n",
       " 79,\n",
       " 81,\n",
       " 83,\n",
       " 85,\n",
       " 87,\n",
       " 89,\n",
       " 91,\n",
       " 93,\n",
       " 95,\n",
       " 97,\n",
       " 99]"
      ]
     },
     "execution_count": 83,
     "metadata": {},
     "output_type": "execute_result"
    }
   ],
   "source": [
    "#Ans 09.\n",
    "list1=[i for i in range(1,101)]\n",
    "list2=[i for i in list1 if i%2!=0]\n",
    "list2"
   ]
  },
  {
   "cell_type": "code",
   "execution_count": null,
   "id": "96a0505f",
   "metadata": {},
   "outputs": [],
   "source": []
  }
 ],
 "metadata": {
  "kernelspec": {
   "display_name": "Python 3 (ipykernel)",
   "language": "python",
   "name": "python3"
  },
  "language_info": {
   "codemirror_mode": {
    "name": "ipython",
    "version": 3
   },
   "file_extension": ".py",
   "mimetype": "text/x-python",
   "name": "python",
   "nbconvert_exporter": "python",
   "pygments_lexer": "ipython3",
   "version": "3.9.13"
  }
 },
 "nbformat": 4,
 "nbformat_minor": 5
}
